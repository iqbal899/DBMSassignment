{
  "nbformat": 4,
  "nbformat_minor": 0,
  "metadata": {
    "colab": {
      "provenance": [],
      "authorship_tag": "ABX9TyPzKMYv/bmxK/UhByjvJNyU",
      "include_colab_link": true
    },
    "kernelspec": {
      "name": "python3",
      "display_name": "Python 3"
    },
    "language_info": {
      "name": "python"
    }
  },
  "cells": [
    {
      "cell_type": "markdown",
      "metadata": {
        "id": "view-in-github",
        "colab_type": "text"
      },
      "source": [
        "<a href=\"https://colab.research.google.com/github/iqbal899/DBMSassignment/blob/main/DBMS_assignment.ipynb\" target=\"_parent\"><img src=\"https://colab.research.google.com/assets/colab-badge.svg\" alt=\"Open In Colab\"/></a>"
      ]
    },
    {
      "cell_type": "code",
      "source": [
        "!pip install transformers torch\n",
        "!pip install accelerate\n",
        "!pip install sentencepiece # Some models might require this"
      ],
      "metadata": {
        "colab": {
          "base_uri": "https://localhost:8080/"
        },
        "collapsed": true,
        "id": "nQxPADVK4wyJ",
        "outputId": "513fdd5d-c35e-4483-f354-ea0c5e7162be"
      },
      "execution_count": 27,
      "outputs": [
        {
          "output_type": "stream",
          "name": "stdout",
          "text": [
            "Requirement already satisfied: transformers in /usr/local/lib/python3.12/dist-packages (4.56.1)\n",
            "Requirement already satisfied: torch in /usr/local/lib/python3.12/dist-packages (2.8.0+cu126)\n",
            "Requirement already satisfied: filelock in /usr/local/lib/python3.12/dist-packages (from transformers) (3.19.1)\n",
            "Requirement already satisfied: huggingface-hub<1.0,>=0.34.0 in /usr/local/lib/python3.12/dist-packages (from transformers) (0.35.0)\n",
            "Requirement already satisfied: numpy>=1.17 in /usr/local/lib/python3.12/dist-packages (from transformers) (2.0.2)\n",
            "Requirement already satisfied: packaging>=20.0 in /usr/local/lib/python3.12/dist-packages (from transformers) (25.0)\n",
            "Requirement already satisfied: pyyaml>=5.1 in /usr/local/lib/python3.12/dist-packages (from transformers) (6.0.2)\n",
            "Requirement already satisfied: regex!=2019.12.17 in /usr/local/lib/python3.12/dist-packages (from transformers) (2024.11.6)\n",
            "Requirement already satisfied: requests in /usr/local/lib/python3.12/dist-packages (from transformers) (2.32.4)\n",
            "Requirement already satisfied: tokenizers<=0.23.0,>=0.22.0 in /usr/local/lib/python3.12/dist-packages (from transformers) (0.22.0)\n",
            "Requirement already satisfied: safetensors>=0.4.3 in /usr/local/lib/python3.12/dist-packages (from transformers) (0.6.2)\n",
            "Requirement already satisfied: tqdm>=4.27 in /usr/local/lib/python3.12/dist-packages (from transformers) (4.67.1)\n",
            "Requirement already satisfied: typing-extensions>=4.10.0 in /usr/local/lib/python3.12/dist-packages (from torch) (4.15.0)\n",
            "Requirement already satisfied: setuptools in /usr/local/lib/python3.12/dist-packages (from torch) (75.2.0)\n",
            "Requirement already satisfied: sympy>=1.13.3 in /usr/local/lib/python3.12/dist-packages (from torch) (1.13.3)\n",
            "Requirement already satisfied: networkx in /usr/local/lib/python3.12/dist-packages (from torch) (3.5)\n",
            "Requirement already satisfied: jinja2 in /usr/local/lib/python3.12/dist-packages (from torch) (3.1.6)\n",
            "Requirement already satisfied: fsspec in /usr/local/lib/python3.12/dist-packages (from torch) (2025.3.0)\n",
            "Requirement already satisfied: nvidia-cuda-nvrtc-cu12==12.6.77 in /usr/local/lib/python3.12/dist-packages (from torch) (12.6.77)\n",
            "Requirement already satisfied: nvidia-cuda-runtime-cu12==12.6.77 in /usr/local/lib/python3.12/dist-packages (from torch) (12.6.77)\n",
            "Requirement already satisfied: nvidia-cuda-cupti-cu12==12.6.80 in /usr/local/lib/python3.12/dist-packages (from torch) (12.6.80)\n",
            "Requirement already satisfied: nvidia-cudnn-cu12==9.10.2.21 in /usr/local/lib/python3.12/dist-packages (from torch) (9.10.2.21)\n",
            "Requirement already satisfied: nvidia-cublas-cu12==12.6.4.1 in /usr/local/lib/python3.12/dist-packages (from torch) (12.6.4.1)\n",
            "Requirement already satisfied: nvidia-cufft-cu12==11.3.0.4 in /usr/local/lib/python3.12/dist-packages (from torch) (11.3.0.4)\n",
            "Requirement already satisfied: nvidia-curand-cu12==10.3.7.77 in /usr/local/lib/python3.12/dist-packages (from torch) (10.3.7.77)\n",
            "Requirement already satisfied: nvidia-cusolver-cu12==11.7.1.2 in /usr/local/lib/python3.12/dist-packages (from torch) (11.7.1.2)\n",
            "Requirement already satisfied: nvidia-cusparse-cu12==12.5.4.2 in /usr/local/lib/python3.12/dist-packages (from torch) (12.5.4.2)\n",
            "Requirement already satisfied: nvidia-cusparselt-cu12==0.7.1 in /usr/local/lib/python3.12/dist-packages (from torch) (0.7.1)\n",
            "Requirement already satisfied: nvidia-nccl-cu12==2.27.3 in /usr/local/lib/python3.12/dist-packages (from torch) (2.27.3)\n",
            "Requirement already satisfied: nvidia-nvtx-cu12==12.6.77 in /usr/local/lib/python3.12/dist-packages (from torch) (12.6.77)\n",
            "Requirement already satisfied: nvidia-nvjitlink-cu12==12.6.85 in /usr/local/lib/python3.12/dist-packages (from torch) (12.6.85)\n",
            "Requirement already satisfied: nvidia-cufile-cu12==1.11.1.6 in /usr/local/lib/python3.12/dist-packages (from torch) (1.11.1.6)\n",
            "Requirement already satisfied: triton==3.4.0 in /usr/local/lib/python3.12/dist-packages (from torch) (3.4.0)\n",
            "Requirement already satisfied: hf-xet<2.0.0,>=1.1.3 in /usr/local/lib/python3.12/dist-packages (from huggingface-hub<1.0,>=0.34.0->transformers) (1.1.10)\n",
            "Requirement already satisfied: mpmath<1.4,>=1.1.0 in /usr/local/lib/python3.12/dist-packages (from sympy>=1.13.3->torch) (1.3.0)\n",
            "Requirement already satisfied: MarkupSafe>=2.0 in /usr/local/lib/python3.12/dist-packages (from jinja2->torch) (3.0.2)\n",
            "Requirement already satisfied: charset_normalizer<4,>=2 in /usr/local/lib/python3.12/dist-packages (from requests->transformers) (3.4.3)\n",
            "Requirement already satisfied: idna<4,>=2.5 in /usr/local/lib/python3.12/dist-packages (from requests->transformers) (3.10)\n",
            "Requirement already satisfied: urllib3<3,>=1.21.1 in /usr/local/lib/python3.12/dist-packages (from requests->transformers) (2.5.0)\n",
            "Requirement already satisfied: certifi>=2017.4.17 in /usr/local/lib/python3.12/dist-packages (from requests->transformers) (2025.8.3)\n",
            "Requirement already satisfied: accelerate in /usr/local/lib/python3.12/dist-packages (1.10.1)\n",
            "Requirement already satisfied: numpy<3.0.0,>=1.17 in /usr/local/lib/python3.12/dist-packages (from accelerate) (2.0.2)\n",
            "Requirement already satisfied: packaging>=20.0 in /usr/local/lib/python3.12/dist-packages (from accelerate) (25.0)\n",
            "Requirement already satisfied: psutil in /usr/local/lib/python3.12/dist-packages (from accelerate) (5.9.5)\n",
            "Requirement already satisfied: pyyaml in /usr/local/lib/python3.12/dist-packages (from accelerate) (6.0.2)\n",
            "Requirement already satisfied: torch>=2.0.0 in /usr/local/lib/python3.12/dist-packages (from accelerate) (2.8.0+cu126)\n",
            "Requirement already satisfied: huggingface_hub>=0.21.0 in /usr/local/lib/python3.12/dist-packages (from accelerate) (0.35.0)\n",
            "Requirement already satisfied: safetensors>=0.4.3 in /usr/local/lib/python3.12/dist-packages (from accelerate) (0.6.2)\n",
            "Requirement already satisfied: filelock in /usr/local/lib/python3.12/dist-packages (from huggingface_hub>=0.21.0->accelerate) (3.19.1)\n",
            "Requirement already satisfied: fsspec>=2023.5.0 in /usr/local/lib/python3.12/dist-packages (from huggingface_hub>=0.21.0->accelerate) (2025.3.0)\n",
            "Requirement already satisfied: requests in /usr/local/lib/python3.12/dist-packages (from huggingface_hub>=0.21.0->accelerate) (2.32.4)\n",
            "Requirement already satisfied: tqdm>=4.42.1 in /usr/local/lib/python3.12/dist-packages (from huggingface_hub>=0.21.0->accelerate) (4.67.1)\n",
            "Requirement already satisfied: typing-extensions>=3.7.4.3 in /usr/local/lib/python3.12/dist-packages (from huggingface_hub>=0.21.0->accelerate) (4.15.0)\n",
            "Requirement already satisfied: hf-xet<2.0.0,>=1.1.3 in /usr/local/lib/python3.12/dist-packages (from huggingface_hub>=0.21.0->accelerate) (1.1.10)\n",
            "Requirement already satisfied: setuptools in /usr/local/lib/python3.12/dist-packages (from torch>=2.0.0->accelerate) (75.2.0)\n",
            "Requirement already satisfied: sympy>=1.13.3 in /usr/local/lib/python3.12/dist-packages (from torch>=2.0.0->accelerate) (1.13.3)\n",
            "Requirement already satisfied: networkx in /usr/local/lib/python3.12/dist-packages (from torch>=2.0.0->accelerate) (3.5)\n",
            "Requirement already satisfied: jinja2 in /usr/local/lib/python3.12/dist-packages (from torch>=2.0.0->accelerate) (3.1.6)\n",
            "Requirement already satisfied: nvidia-cuda-nvrtc-cu12==12.6.77 in /usr/local/lib/python3.12/dist-packages (from torch>=2.0.0->accelerate) (12.6.77)\n",
            "Requirement already satisfied: nvidia-cuda-runtime-cu12==12.6.77 in /usr/local/lib/python3.12/dist-packages (from torch>=2.0.0->accelerate) (12.6.77)\n",
            "Requirement already satisfied: nvidia-cuda-cupti-cu12==12.6.80 in /usr/local/lib/python3.12/dist-packages (from torch>=2.0.0->accelerate) (12.6.80)\n",
            "Requirement already satisfied: nvidia-cudnn-cu12==9.10.2.21 in /usr/local/lib/python3.12/dist-packages (from torch>=2.0.0->accelerate) (9.10.2.21)\n",
            "Requirement already satisfied: nvidia-cublas-cu12==12.6.4.1 in /usr/local/lib/python3.12/dist-packages (from torch>=2.0.0->accelerate) (12.6.4.1)\n",
            "Requirement already satisfied: nvidia-cufft-cu12==11.3.0.4 in /usr/local/lib/python3.12/dist-packages (from torch>=2.0.0->accelerate) (11.3.0.4)\n",
            "Requirement already satisfied: nvidia-curand-cu12==10.3.7.77 in /usr/local/lib/python3.12/dist-packages (from torch>=2.0.0->accelerate) (10.3.7.77)\n",
            "Requirement already satisfied: nvidia-cusolver-cu12==11.7.1.2 in /usr/local/lib/python3.12/dist-packages (from torch>=2.0.0->accelerate) (11.7.1.2)\n",
            "Requirement already satisfied: nvidia-cusparse-cu12==12.5.4.2 in /usr/local/lib/python3.12/dist-packages (from torch>=2.0.0->accelerate) (12.5.4.2)\n",
            "Requirement already satisfied: nvidia-cusparselt-cu12==0.7.1 in /usr/local/lib/python3.12/dist-packages (from torch>=2.0.0->accelerate) (0.7.1)\n",
            "Requirement already satisfied: nvidia-nccl-cu12==2.27.3 in /usr/local/lib/python3.12/dist-packages (from torch>=2.0.0->accelerate) (2.27.3)\n",
            "Requirement already satisfied: nvidia-nvtx-cu12==12.6.77 in /usr/local/lib/python3.12/dist-packages (from torch>=2.0.0->accelerate) (12.6.77)\n",
            "Requirement already satisfied: nvidia-nvjitlink-cu12==12.6.85 in /usr/local/lib/python3.12/dist-packages (from torch>=2.0.0->accelerate) (12.6.85)\n",
            "Requirement already satisfied: nvidia-cufile-cu12==1.11.1.6 in /usr/local/lib/python3.12/dist-packages (from torch>=2.0.0->accelerate) (1.11.1.6)\n",
            "Requirement already satisfied: triton==3.4.0 in /usr/local/lib/python3.12/dist-packages (from torch>=2.0.0->accelerate) (3.4.0)\n",
            "Requirement already satisfied: mpmath<1.4,>=1.1.0 in /usr/local/lib/python3.12/dist-packages (from sympy>=1.13.3->torch>=2.0.0->accelerate) (1.3.0)\n",
            "Requirement already satisfied: MarkupSafe>=2.0 in /usr/local/lib/python3.12/dist-packages (from jinja2->torch>=2.0.0->accelerate) (3.0.2)\n",
            "Requirement already satisfied: charset_normalizer<4,>=2 in /usr/local/lib/python3.12/dist-packages (from requests->huggingface_hub>=0.21.0->accelerate) (3.4.3)\n",
            "Requirement already satisfied: idna<4,>=2.5 in /usr/local/lib/python3.12/dist-packages (from requests->huggingface_hub>=0.21.0->accelerate) (3.10)\n",
            "Requirement already satisfied: urllib3<3,>=1.21.1 in /usr/local/lib/python3.12/dist-packages (from requests->huggingface_hub>=0.21.0->accelerate) (2.5.0)\n",
            "Requirement already satisfied: certifi>=2017.4.17 in /usr/local/lib/python3.12/dist-packages (from requests->huggingface_hub>=0.21.0->accelerate) (2025.8.3)\n",
            "Requirement already satisfied: sentencepiece in /usr/local/lib/python3.12/dist-packages (0.2.1)\n"
          ]
        }
      ]
    },
    {
      "cell_type": "code",
      "source": [
        "from google.colab import userdata\n",
        "import os\n",
        "# Set the environment variable for Hugging Face\n",
        "os.environ[\"HF_TOKEN\"] = userdata.get('HF_TOKEN')"
      ],
      "metadata": {
        "id": "g4E0YArz4-ip"
      },
      "execution_count": 28,
      "outputs": []
    },
    {
      "cell_type": "code",
      "source": [
        "db_schema = \"\"\"\n",
        "CREATE TABLE student (\n",
        "    student_id INTEGER,\n",
        "    name VARCHAR,\n",
        "    marks INTEGER,\n",
        "    grade VARCHAR,\n",
        "    age INTEGER\n",
        ");\n",
        "\"\"\"\n",
        "from transformers import pipeline\n",
        "model_name = \"gaussalgo/T5-LM-Large-text2sql-spider\"\n",
        "text_to_sql_pipeline = pipeline(\"text2text-generation\", model=model_name)\n"
      ],
      "metadata": {
        "colab": {
          "base_uri": "https://localhost:8080/"
        },
        "id": "Ru3nT0I55UCh",
        "outputId": "04eebc98-821f-4370-c12a-d29b79e12a64"
      },
      "execution_count": 29,
      "outputs": [
        {
          "output_type": "stream",
          "name": "stderr",
          "text": [
            "Device set to use cpu\n"
          ]
        }
      ]
    },
    {
      "cell_type": "code",
      "source": [
        "# Install pandasql\n",
        "!pip install pandasql\n",
        "\n",
        "import pandas as pd\n",
        "import numpy as np\n",
        "from pandasql import sqldf\n",
        "\n",
        "# Set a seed for reproducibility\n",
        "np.random.seed(42)\n",
        "\n",
        "# Create a DataFrame named 'student' to match the schema\n",
        "student = pd.DataFrame({\n",
        "    'student_id': np.arange(1, 21),\n",
        "    'name': [f'Student_{i}' for i in range(1, 21)],\n",
        "    'marks': np.random.randint(50, 100, 20),\n",
        "    'grade': np.random.choice(['A', 'B', 'C', 'D'], 20),\n",
        "    'age': np.random.randint(18, 25, 20)\n",
        "})\n",
        "\n",
        "# Display the first few rows\n",
        "print(\"Dummy Student DataFrame:\")\n",
        "print(student.head())\n",
        "\n",
        "# Define a function to execute SQL on the DataFrame\n",
        "def psql(q):\n",
        "    return sqldf(q, globals())"
      ],
      "metadata": {
        "colab": {
          "base_uri": "https://localhost:8080/"
        },
        "id": "Bs_j35fu6Cmd",
        "outputId": "2f35fbbd-22fd-43dc-8112-b61c41687b55"
      },
      "execution_count": 30,
      "outputs": [
        {
          "output_type": "stream",
          "name": "stdout",
          "text": [
            "Requirement already satisfied: pandasql in /usr/local/lib/python3.12/dist-packages (0.7.3)\n",
            "Requirement already satisfied: numpy in /usr/local/lib/python3.12/dist-packages (from pandasql) (2.0.2)\n",
            "Requirement already satisfied: pandas in /usr/local/lib/python3.12/dist-packages (from pandasql) (2.2.2)\n",
            "Requirement already satisfied: sqlalchemy in /usr/local/lib/python3.12/dist-packages (from pandasql) (2.0.43)\n",
            "Requirement already satisfied: python-dateutil>=2.8.2 in /usr/local/lib/python3.12/dist-packages (from pandas->pandasql) (2.9.0.post0)\n",
            "Requirement already satisfied: pytz>=2020.1 in /usr/local/lib/python3.12/dist-packages (from pandas->pandasql) (2025.2)\n",
            "Requirement already satisfied: tzdata>=2022.7 in /usr/local/lib/python3.12/dist-packages (from pandas->pandasql) (2025.2)\n",
            "Requirement already satisfied: greenlet>=1 in /usr/local/lib/python3.12/dist-packages (from sqlalchemy->pandasql) (3.2.4)\n",
            "Requirement already satisfied: typing-extensions>=4.6.0 in /usr/local/lib/python3.12/dist-packages (from sqlalchemy->pandasql) (4.15.0)\n",
            "Requirement already satisfied: six>=1.5 in /usr/local/lib/python3.12/dist-packages (from python-dateutil>=2.8.2->pandas->pandasql) (1.17.0)\n",
            "Dummy Student DataFrame:\n",
            "   student_id       name  marks grade  age\n",
            "0           1  Student_1     88     B   21\n",
            "1           2  Student_2     78     B   24\n",
            "2           3  Student_3     64     B   23\n",
            "3           4  Student_4     92     D   23\n",
            "4           5  Student_5     57     D   24\n"
          ]
        }
      ]
    },
    {
      "cell_type": "code",
      "source": [
        "# Set Pandas options to display all rows and columns\n",
        "pd.set_option('display.max_rows', None)\n",
        "pd.set_option('display.max_columns', None)\n",
        "pd.set_option('display.width', None)\n",
        "\n",
        "# Print the entire student DataFrame\n",
        "print(student)"
      ],
      "metadata": {
        "colab": {
          "base_uri": "https://localhost:8080/"
        },
        "id": "1NnziTLM7XqG",
        "outputId": "53c23884-9b37-4b48-dcba-103395b942ea"
      },
      "execution_count": 31,
      "outputs": [
        {
          "output_type": "stream",
          "name": "stdout",
          "text": [
            "    student_id        name  marks grade  age\n",
            "0            1   Student_1     88     B   21\n",
            "1            2   Student_2     78     B   24\n",
            "2            3   Student_3     64     B   23\n",
            "3            4   Student_4     92     D   23\n",
            "4            5   Student_5     57     D   24\n",
            "5            6   Student_6     70     A   23\n",
            "6            7   Student_7     88     A   20\n",
            "7            8   Student_8     68     D   21\n",
            "8            9   Student_9     72     B   24\n",
            "9           10  Student_10     60     B   21\n",
            "10          11  Student_11     60     A   18\n",
            "11          12  Student_12     73     D   20\n",
            "12          13  Student_13     85     A   22\n",
            "13          14  Student_14     89     A   20\n",
            "14          15  Student_15     73     C   24\n",
            "15          16  Student_16     52     C   22\n",
            "16          17  Student_17     71     C   18\n",
            "17          18  Student_18     51     B   24\n",
            "18          19  Student_19     73     D   19\n",
            "19          20  Student_20     93     D   21\n"
          ]
        }
      ]
    },
    {
      "cell_type": "markdown",
      "source": [
        "**V1_QUERY**"
      ],
      "metadata": {
        "id": "rDzZTP5dWdvr"
      }
    },
    {
      "cell_type": "code",
      "source": [
        "nl_query_v1 = \"Show all students with marks above 80.\"\n",
        "prompt_v1 = f\"### {db_schema}\\n### Task\\n{nl_query_v1}\"\n",
        "sql_v1 = text_to_sql_pipeline(prompt_v1)\n",
        "\n",
        "print(f\"V1 Natural Language: {nl_query_v1}\")\n",
        "print(f\"V1 Generated SQL: {sql_v1[0]['generated_text']}\")\n",
        "\n",
        "# Execute the generated SQL on the dummy data\n",
        "result_v1 = psql(sql_v1[0]['generated_text'])\n",
        "print(\"V1 Query Result on Dummy Data:\")\n",
        "print(result_v1)"
      ],
      "metadata": {
        "colab": {
          "base_uri": "https://localhost:8080/"
        },
        "collapsed": true,
        "id": "njyj1pMj7Ma7",
        "outputId": "1693cf97-3423-4449-a0b2-0f3ddb1b5159"
      },
      "execution_count": 32,
      "outputs": [
        {
          "output_type": "stream",
          "name": "stdout",
          "text": [
            "V1 Natural Language: Show all students with marks above 80.\n",
            "V1 Generated SQL: SELECT name FROM student WHERE marks > 80\n",
            "V1 Query Result on Dummy Data:\n",
            "         name\n",
            "0   Student_1\n",
            "1   Student_4\n",
            "2   Student_7\n",
            "3  Student_13\n",
            "4  Student_14\n",
            "5  Student_20\n"
          ]
        }
      ]
    },
    {
      "cell_type": "markdown",
      "source": [
        "#***realted queries for table student***"
      ],
      "metadata": {
        "id": "0G9uY-7w-am_"
      }
    },
    {
      "cell_type": "code",
      "source": [
        "nl_query = \"Count the number of students for each grade.\"\n",
        "prompt = f\"### {db_schema}\\n### Task\\n{nl_query}\"\n",
        "sql = text_to_sql_pipeline(prompt)\n",
        "print(f\"Generated SQL: {sql[0]['generated_text']}\")\n",
        "result = psql(sql[0]['generated_text'])\n",
        "print(\"Result:\")\n",
        "print(result)"
      ],
      "metadata": {
        "colab": {
          "base_uri": "https://localhost:8080/"
        },
        "id": "rMTbRZO7ai4D",
        "outputId": "f9eb2682-2f10-4097-b7b1-b10c4526f92b"
      },
      "execution_count": 33,
      "outputs": [
        {
          "output_type": "stream",
          "name": "stdout",
          "text": [
            "Generated SQL: SELECT count(*) , grade FROM student GROUP BY grade\n",
            "Result:\n",
            "   count(*) grade\n",
            "0         5     A\n",
            "1         6     B\n",
            "2         3     C\n",
            "3         6     D\n"
          ]
        }
      ]
    },
    {
      "cell_type": "code",
      "source": [
        "#This query uses a simple COUNT function to find the total number of students.\n",
        "nl_query_count = \"How many students are there?\"\n",
        "prompt_count = f\"### {db_schema}\\n### Task\\n{nl_query_count}\"\n",
        "sql_count = text_to_sql_pipeline(prompt_count)\n",
        "\n",
        "print(f\"Count Query: {nl_query_count}\")\n",
        "print(f\"Generated SQL: {sql_count[0]['generated_text']}\")\n",
        "\n",
        "# Execute the generated SQL\n",
        "result_count = psql(sql_count[0]['generated_text'])\n",
        "print(\"Query Result on Dummy Data:\")\n",
        "print(result_count)"
      ],
      "metadata": {
        "colab": {
          "base_uri": "https://localhost:8080/"
        },
        "id": "EeDY-6ZD-R4r",
        "outputId": "e346ef0f-19f0-4ef0-f836-74e162b1fe46"
      },
      "execution_count": 34,
      "outputs": [
        {
          "output_type": "stream",
          "name": "stdout",
          "text": [
            "Count Query: How many students are there?\n",
            "Generated SQL: SELECT count(*) FROM student\n",
            "Query Result on Dummy Data:\n",
            "   count(*)\n",
            "0        20\n"
          ]
        }
      ]
    },
    {
      "cell_type": "code",
      "source": [
        "#TO GET ALL DATA\n",
        "# Updated Natural Language Query for clarity\n",
        "nl_query_all = \"Show all data from the student table.\"\n",
        "\n",
        "# The prompt now explicitly tells the model to use the \"student\" table\n",
        "prompt_all = f\"### {db_schema}\\n### Task\\n{nl_query_all}\"\n",
        "sql_all = text_to_sql_pipeline(prompt_all)\n",
        "\n",
        "print(f\"All Records Query: {nl_query_all}\")\n",
        "print(f\"Generated SQL: {sql_all[0]['generated_text']}\")\n",
        "\n",
        "# Execute the generated SQL\n",
        "# This will now work correctly as the SQL should not contain a JOIN\n",
        "result_all = psql(sql_all[0]['generated_text'])\n",
        "print(\"Query Result on Dummy Data:\")\n",
        "print(result_all)"
      ],
      "metadata": {
        "colab": {
          "base_uri": "https://localhost:8080/"
        },
        "id": "KHSJ7NSN-pxx",
        "outputId": "dae3df66-8115-449f-c90a-6235491d51a9"
      },
      "execution_count": 35,
      "outputs": [
        {
          "output_type": "stream",
          "name": "stdout",
          "text": [
            "All Records Query: Show all data from the student table.\n",
            "Generated SQL: SELECT * FROM student\n",
            "Query Result on Dummy Data:\n",
            "    student_id        name  marks grade  age\n",
            "0            1   Student_1     88     B   21\n",
            "1            2   Student_2     78     B   24\n",
            "2            3   Student_3     64     B   23\n",
            "3            4   Student_4     92     D   23\n",
            "4            5   Student_5     57     D   24\n",
            "5            6   Student_6     70     A   23\n",
            "6            7   Student_7     88     A   20\n",
            "7            8   Student_8     68     D   21\n",
            "8            9   Student_9     72     B   24\n",
            "9           10  Student_10     60     B   21\n",
            "10          11  Student_11     60     A   18\n",
            "11          12  Student_12     73     D   20\n",
            "12          13  Student_13     85     A   22\n",
            "13          14  Student_14     89     A   20\n",
            "14          15  Student_15     73     C   24\n",
            "15          16  Student_16     52     C   22\n",
            "16          17  Student_17     71     C   18\n",
            "17          18  Student_18     51     B   24\n",
            "18          19  Student_19     73     D   19\n",
            "19          20  Student_20     93     D   21\n"
          ]
        }
      ]
    },
    {
      "cell_type": "code",
      "source": [
        "#GETTING MINIMUM MARKS\n",
        "\n",
        "nl_query_min = \"What is the lowest mark?\"\n",
        "prompt_min = f\"### {db_schema}\\n### Task\\n{nl_query_min}\"\n",
        "sql_min = text_to_sql_pipeline(prompt_min)\n",
        "print(f\"Min Query: {nl_query_min}\")\n",
        "print(f\"Generated SQL: {sql_min[0]['generated_text']}\")\n",
        "result_min = psql(sql_min[0]['generated_text'])\n",
        "print(\"Query Result on Dummy Data:\")\n",
        "print(result_min)"
      ],
      "metadata": {
        "colab": {
          "base_uri": "https://localhost:8080/"
        },
        "id": "vwOtb1F8_L6B",
        "outputId": "74991647-97ff-4a81-bc61-8f7f14bef49b"
      },
      "execution_count": 36,
      "outputs": [
        {
          "output_type": "stream",
          "name": "stdout",
          "text": [
            "Min Query: What is the lowest mark?\n",
            "Generated SQL: SELECT min(marks) FROM student\n",
            "Query Result on Dummy Data:\n",
            "   min(marks)\n",
            "0          51\n"
          ]
        }
      ]
    },
    {
      "cell_type": "code",
      "source": [
        "nl_query_lowest_student = \"Select the name and marks of the student with the lowest mark.\"\n",
        "prompt_lowest_student = f\"### {db_schema}\\n### Task\\n{nl_query_lowest_student}\"\n",
        "sql_lowest_student = text_to_sql_pipeline(prompt_lowest_student)\n",
        "\n",
        "print(f\"Lowest Mark Query: {nl_query_lowest_student}\")\n",
        "print(f\"Generated SQL: {sql_lowest_student[0]['generated_text']}\")\n",
        "\n",
        "# Execute the generated SQL on the dummy data\n",
        "result_lowest_student = psql(sql_lowest_student[0]['generated_text'])\n",
        "print(\"Query Result on Dummy Data:\")\n",
        "print(result_lowest_student)"
      ],
      "metadata": {
        "colab": {
          "base_uri": "https://localhost:8080/"
        },
        "id": "5Lncey9AADnU",
        "outputId": "fbafcd0a-4b98-43b3-ad83-827c35a5d6e6"
      },
      "execution_count": 37,
      "outputs": [
        {
          "output_type": "stream",
          "name": "stdout",
          "text": [
            "Lowest Mark Query: Select the name and marks of the student with the lowest mark.\n",
            "Generated SQL: SELECT name , marks FROM student ORDER BY marks LIMIT 1\n",
            "Query Result on Dummy Data:\n",
            "         name  marks\n",
            "0  Student_18     51\n"
          ]
        }
      ]
    },
    {
      "cell_type": "markdown",
      "source": [
        "**QUERY V2**"
      ],
      "metadata": {
        "id": "IGqN9w2IDvGT"
      }
    },
    {
      "cell_type": "code",
      "source": [
        "# The natural language query is changed to be more explicit.\n",
        "nl_query_v2 = \"Show the name and marks and age of students with age greater than 20 and grade 'A'.\"\n",
        "\n",
        "# The prompt now explicitly tells the model to use the \"student\" table without a JOIN.\n",
        "prompt_v2 = f\"### {db_schema}\\n### Task\\n{nl_query_v2}\"\n",
        "sql_v2 = text_to_sql_pipeline(prompt_v2)\n",
        "\n",
        "print(f\"V2 Natural Language: {nl_query_v2}\")\n",
        "print(f\"V2 Generated SQL: {sql_v2[0]['generated_text']}\")\n",
        "\n",
        "# Execute the generated SQL on the dummy data\n",
        "result_v2 = psql(sql_v2[0]['generated_text'])\n",
        "print(\"V2 Query Result on Dummy Data:\")\n",
        "print(result_v2)"
      ],
      "metadata": {
        "colab": {
          "base_uri": "https://localhost:8080/"
        },
        "id": "nqU5bu4YCkFm",
        "outputId": "3183d7f6-6f14-4a88-a500-0eec6f5d726e"
      },
      "execution_count": 38,
      "outputs": [
        {
          "output_type": "stream",
          "name": "stdout",
          "text": [
            "V2 Natural Language: Show the name and marks and age of students with age greater than 20 and grade 'A'.\n",
            "V2 Generated SQL: SELECT name, marks, age FROM student WHERE age > 20 AND grade = 'A'\n",
            "V2 Query Result on Dummy Data:\n",
            "         name  marks  age\n",
            "0   Student_6     70   23\n",
            "1  Student_13     85   22\n"
          ]
        }
      ]
    },
    {
      "cell_type": "markdown",
      "source": [
        "**QUERY_V3**"
      ],
      "metadata": {
        "id": "1KxapFKwD7Wl"
      }
    },
    {
      "cell_type": "code",
      "source": [
        "nl_query_v3 = \"Find the average marks of students.\"\n",
        "prompt_v3 = f\"### {db_schema}\\n### Task\\n{nl_query_v3}\"\n",
        "sql_v3 = text_to_sql_pipeline(prompt_v3)\n",
        "\n",
        "print(f\"V3 Natural Language: {nl_query_v3}\")\n",
        "print(f\"V3 Generated SQL: {sql_v3[0]['generated_text']}\")\n",
        "\n",
        "# Execute the generated SQL\n",
        "result_v3 = psql(sql_v3[0]['generated_text'])\n",
        "print(\"V3 Query Result on Dummy Data:\")\n",
        "print(result_v3)"
      ],
      "metadata": {
        "colab": {
          "base_uri": "https://localhost:8080/"
        },
        "id": "MpCD6CneDHN7",
        "outputId": "5709d7e2-d4f9-452c-9a71-e8adf48d99ea"
      },
      "execution_count": 39,
      "outputs": [
        {
          "output_type": "stream",
          "name": "stdout",
          "text": [
            "V3 Natural Language: Find the average marks of students.\n",
            "V3 Generated SQL: SELECT avg(marks) FROM student\n",
            "V3 Query Result on Dummy Data:\n",
            "   avg(marks)\n",
            "0       72.85\n"
          ]
        }
      ]
    },
    {
      "cell_type": "markdown",
      "source": [
        "#**QUERY_V4**"
      ],
      "metadata": {
        "id": "sEMWRAz_EF4_"
      }
    },
    {
      "cell_type": "code",
      "source": [
        "nl_query_v4 = \"Show names ,marks of students  ordered by marks descending.\"\n",
        "prompt_v4 = f\"### {db_schema}\\n### Task\\n{nl_query_v4}\"\n",
        "sql_v4 = text_to_sql_pipeline(prompt_v4)\n",
        "\n",
        "print(f\"V4 Natural Language: {nl_query_v4}\")\n",
        "print(f\"V4 Generated SQL: {sql_v4[0]['generated_text']}\")\n",
        "\n",
        "# Execute the generated SQL\n",
        "result_v4 = psql(sql_v4[0]['generated_text'])\n",
        "print(\"V4 Query Result on Dummy Data:\")\n",
        "print(result_v4)"
      ],
      "metadata": {
        "colab": {
          "base_uri": "https://localhost:8080/"
        },
        "id": "_7yC2UGrEJQo",
        "outputId": "4f4684bf-aa5e-4c1f-9fd3-c48c96e49cc6"
      },
      "execution_count": 40,
      "outputs": [
        {
          "output_type": "stream",
          "name": "stdout",
          "text": [
            "V4 Natural Language: Show names ,marks of students  ordered by marks descending.\n",
            "V4 Generated SQL: SELECT name , marks FROM student ORDER BY marks DESC\n",
            "V4 Query Result on Dummy Data:\n",
            "          name  marks\n",
            "0   Student_20     93\n",
            "1    Student_4     92\n",
            "2   Student_14     89\n",
            "3    Student_1     88\n",
            "4    Student_7     88\n",
            "5   Student_13     85\n",
            "6    Student_2     78\n",
            "7   Student_12     73\n",
            "8   Student_15     73\n",
            "9   Student_19     73\n",
            "10   Student_9     72\n",
            "11  Student_17     71\n",
            "12   Student_6     70\n",
            "13   Student_8     68\n",
            "14   Student_3     64\n",
            "15  Student_10     60\n",
            "16  Student_11     60\n",
            "17   Student_5     57\n",
            "18  Student_16     52\n",
            "19  Student_18     51\n"
          ]
        }
      ]
    },
    {
      "cell_type": "markdown",
      "source": [
        "**QUERY_V5**"
      ],
      "metadata": {
        "id": "RSKYBoA5Ebho"
      }
    },
    {
      "cell_type": "code",
      "source": [
        "nl_query_v5 = \"Show average marks by grade.\"\n",
        "prompt_v5 = f\"### {db_schema}\\n### Task\\n{nl_query_v5}\"\n",
        "sql_v5 = text_to_sql_pipeline(prompt_v5)\n",
        "\n",
        "print(f\"V5 Natural Language: {nl_query_v5}\")\n",
        "print(f\"V5 Generated SQL: {sql_v5[0]['generated_text']}\")\n",
        "\n",
        "# Execute the generated SQL\n",
        "result_v5 = psql(sql_v5[0]['generated_text'])\n",
        "print(\"V5 Query Result on Dummy Data:\")\n",
        "print(result_v5)"
      ],
      "metadata": {
        "colab": {
          "base_uri": "https://localhost:8080/"
        },
        "id": "EDA2_1VnEKiJ",
        "outputId": "8111900f-5917-4c1b-e322-d822fc912e98"
      },
      "execution_count": 41,
      "outputs": [
        {
          "output_type": "stream",
          "name": "stdout",
          "text": [
            "V5 Natural Language: Show average marks by grade.\n",
            "V5 Generated SQL: SELECT avg(marks) FROM student GROUP BY grade\n",
            "V5 Query Result on Dummy Data:\n",
            "   avg(marks)\n",
            "0   78.400000\n",
            "1   68.833333\n",
            "2   65.333333\n",
            "3   76.000000\n"
          ]
        }
      ]
    },
    {
      "cell_type": "markdown",
      "source": [
        "**QUERY_V7**"
      ],
      "metadata": {
        "id": "CMlwx_zeATk5"
      }
    },
    {
      "cell_type": "code",
      "source": [
        "# V7: Synonym Handling\n",
        "nl_query_v7 = \"List the names of students with marks above 80.\"\n",
        "prompt_v7 = f\"### {db_schema}\\n### Task\\n{nl_query_v7}\"\n",
        "sql_v7 = text_to_sql_pipeline(prompt_v7)\n",
        "\n",
        "print(f\"V7 Natural Language: {nl_query_v7}\")\n",
        "print(f\"V7 Generated SQL: {sql_v7[0]['generated_text']}\")\n",
        "\n",
        "# Execute the generated SQL\n",
        "result_v7 = psql(sql_v7[0]['generated_text'])\n",
        "print(\"V7 Query Result on Dummy Data:\")\n",
        "print(result_v7)"
      ],
      "metadata": {
        "colab": {
          "base_uri": "https://localhost:8080/"
        },
        "id": "tRKsaUn2ASpr",
        "outputId": "79d6f22a-bd3a-4175-ea1f-55f2fff10b78"
      },
      "execution_count": 42,
      "outputs": [
        {
          "output_type": "stream",
          "name": "stdout",
          "text": [
            "V7 Natural Language: List the names of students with marks above 80.\n",
            "V7 Generated SQL: SELECT name FROM student WHERE marks > 80\n",
            "V7 Query Result on Dummy Data:\n",
            "         name\n",
            "0   Student_1\n",
            "1   Student_4\n",
            "2   Student_7\n",
            "3  Student_13\n",
            "4  Student_14\n",
            "5  Student_20\n"
          ]
        }
      ]
    },
    {
      "cell_type": "markdown",
      "source": [
        "**#more_queries**"
      ],
      "metadata": {
        "id": "cyu2lxj8E7U-"
      }
    },
    {
      "cell_type": "code",
      "source": [
        "nl_query = \"Show the name , marks of students, ordered by marks in descending order.\"\n",
        "prompt = f\"### {db_schema}\\n### Task\\n{nl_query}\"\n",
        "sql = text_to_sql_pipeline(prompt)\n",
        "\n",
        "print(f\"Natural Language: {nl_query}\")\n",
        "print(f\"Generated SQL: {sql[0]['generated_text']}\")\n",
        "\n",
        "# Execute the generated SQL\n",
        "result = psql(sql[0]['generated_text'])\n",
        "print(\"Query Result on Dummy Data:\")\n",
        "print(result)"
      ],
      "metadata": {
        "colab": {
          "base_uri": "https://localhost:8080/"
        },
        "id": "7A10nureEjQQ",
        "outputId": "43eb1cc0-ef4e-4c43-ea60-e75cabb74207"
      },
      "execution_count": 43,
      "outputs": [
        {
          "output_type": "stream",
          "name": "stdout",
          "text": [
            "Natural Language: Show the name , marks of students, ordered by marks in descending order.\n",
            "Generated SQL: SELECT name , marks FROM student ORDER BY marks DESC\n",
            "Query Result on Dummy Data:\n",
            "          name  marks\n",
            "0   Student_20     93\n",
            "1    Student_4     92\n",
            "2   Student_14     89\n",
            "3    Student_1     88\n",
            "4    Student_7     88\n",
            "5   Student_13     85\n",
            "6    Student_2     78\n",
            "7   Student_12     73\n",
            "8   Student_15     73\n",
            "9   Student_19     73\n",
            "10   Student_9     72\n",
            "11  Student_17     71\n",
            "12   Student_6     70\n",
            "13   Student_8     68\n",
            "14   Student_3     64\n",
            "15  Student_10     60\n",
            "16  Student_11     60\n",
            "17   Student_5     57\n",
            "18  Student_16     52\n",
            "19  Student_18     51\n"
          ]
        }
      ]
    },
    {
      "cell_type": "code",
      "source": [
        "import pandas as pd\n",
        "import numpy as np\n",
        "\n",
        "# Set a seed for reproducibility\n",
        "np.random.seed(42)\n",
        "\n",
        "# Create course DataFrame\n",
        "cse_courses = {\n",
        "    'DBMS': 101,\n",
        "    'Data Structures': 102,\n",
        "    'Algorithms': 103,\n",
        "    'Operating Systems': 104,\n",
        "    'Computer Networks': 105\n",
        "}\n",
        "\n",
        "course = pd.DataFrame({\n",
        "    'course_id': list(cse_courses.values()),\n",
        "    'course_name': list(cse_courses.keys())\n",
        "})\n",
        "\n",
        "# Assign random courses to students\n",
        "student['course_id'] = np.random.choice(course['course_id'], size=len(student), replace=True)\n",
        "\n",
        "# Display all rows and columns\n",
        "pd.set_option('display.max_rows', None)\n",
        "pd.set_option('display.max_columns', None)\n",
        "\n",
        "print(\"Updated Student DataFrame:\")\n",
        "print(student)\n",
        "print(\"\\nCorrect Course DataFrame:\")\n",
        "print(course)\n"
      ],
      "metadata": {
        "colab": {
          "base_uri": "https://localhost:8080/"
        },
        "id": "YyZEOPLQDQzU",
        "outputId": "ad3716e6-9627-4806-cb04-8fae75cd6537"
      },
      "execution_count": 44,
      "outputs": [
        {
          "output_type": "stream",
          "name": "stdout",
          "text": [
            "Updated Student DataFrame:\n",
            "    student_id        name  marks grade  age  course_id\n",
            "0            1   Student_1     88     B   21        104\n",
            "1            2   Student_2     78     B   24        105\n",
            "2            3   Student_3     64     B   23        103\n",
            "3            4   Student_4     92     D   23        105\n",
            "4            5   Student_5     57     D   24        105\n",
            "5            6   Student_6     70     A   23        102\n",
            "6            7   Student_7     88     A   20        103\n",
            "7            8   Student_8     68     D   21        103\n",
            "8            9   Student_9     72     B   24        103\n",
            "9           10  Student_10     60     B   21        105\n",
            "10          11  Student_11     60     A   18        104\n",
            "11          12  Student_12     73     D   20        103\n",
            "12          13  Student_13     85     A   22        105\n",
            "13          14  Student_14     89     A   20        102\n",
            "14          15  Student_15     73     C   24        104\n",
            "15          16  Student_16     52     C   22        102\n",
            "16          17  Student_17     71     C   18        104\n",
            "17          18  Student_18     51     B   24        105\n",
            "18          19  Student_19     73     D   19        101\n",
            "19          20  Student_20     93     D   21        104\n",
            "\n",
            "Correct Course DataFrame:\n",
            "   course_id        course_name\n",
            "0        101               DBMS\n",
            "1        102    Data Structures\n",
            "2        103         Algorithms\n",
            "3        104  Operating Systems\n",
            "4        105  Computer Networks\n"
          ]
        }
      ]
    },
    {
      "cell_type": "code",
      "source": [
        "# Updated schema with the foreign key on the student table\n",
        "db_schema_v6 = \"\"\"\n",
        "CREATE TABLE student (\n",
        "    student_id INTEGER,\n",
        "    name VARCHAR,\n",
        "    marks INTEGER,\n",
        "    grade VARCHAR,\n",
        "    age INTEGER,\n",
        "    course_id INTEGER\n",
        ");\n",
        "\n",
        "CREATE TABLE course (\n",
        "    course_id INTEGER,\n",
        "    course_name VARCHAR\n",
        ");\n",
        "\"\"\"\n",
        "from transformers import pipeline\n",
        "model_name = \"gaussalgo/T5-LM-Large-text2sql-spider\"\n",
        "text_to_sql_pipeline = pipeline(\"text2text-generation\", model=model_name)\n",
        "from pandasql import sqldf\n",
        "def psql(q):\n",
        "    return sqldf(q, globals())"
      ],
      "metadata": {
        "colab": {
          "base_uri": "https://localhost:8080/"
        },
        "id": "7-g-btSlIqYA",
        "outputId": "e1a5d439-c3e2-4f4b-d7d0-051a03aa4cd5"
      },
      "execution_count": 45,
      "outputs": [
        {
          "output_type": "stream",
          "name": "stderr",
          "text": [
            "Device set to use cpu\n"
          ]
        }
      ]
    },
    {
      "cell_type": "code",
      "source": [
        "\n",
        "# V6: Multi-Table Query\n",
        "nl_query_v6 = \"Show student names , their course names.\"\n",
        "prompt_v6 = f\"### {db_schema_v6}\\n### Task\\n{nl_query_v6}\"\n",
        "sql_v6 = text_to_sql_pipeline(prompt_v6)\n",
        "\n",
        "print(f\"V6 Natural Language: {nl_query_v6}\")\n",
        "print(f\"V6 Generated SQL: {sql_v6[0]['generated_text']}\")\n",
        "\n",
        "# Execute the generated SQL\n",
        "result_v6 = psql(sql_v6[0]['generated_text'])\n",
        "print(\"V6 Query Result on Dummy Data:\")\n",
        "print(result_v6)"
      ],
      "metadata": {
        "colab": {
          "base_uri": "https://localhost:8080/"
        },
        "id": "yQDZqY86JEpu",
        "outputId": "7470deec-abb1-4515-c074-ab31f42c3c7a"
      },
      "execution_count": 46,
      "outputs": [
        {
          "output_type": "stream",
          "name": "stdout",
          "text": [
            "V6 Natural Language: Show student names , their course names.\n",
            "V6 Generated SQL: SELECT T1.name , T2.course_name FROM student AS T1 JOIN course AS T2 ON T1.course_id = T2.course_id\n",
            "V6 Query Result on Dummy Data:\n",
            "          name        course_name\n",
            "0    Student_1  Operating Systems\n",
            "1    Student_2  Computer Networks\n",
            "2    Student_3         Algorithms\n",
            "3    Student_4  Computer Networks\n",
            "4    Student_5  Computer Networks\n",
            "5    Student_6    Data Structures\n",
            "6    Student_7         Algorithms\n",
            "7    Student_8         Algorithms\n",
            "8    Student_9         Algorithms\n",
            "9   Student_10  Computer Networks\n",
            "10  Student_11  Operating Systems\n",
            "11  Student_12         Algorithms\n",
            "12  Student_13  Computer Networks\n",
            "13  Student_14    Data Structures\n",
            "14  Student_15  Operating Systems\n",
            "15  Student_16    Data Structures\n",
            "16  Student_17  Operating Systems\n",
            "17  Student_18  Computer Networks\n",
            "18  Student_19               DBMS\n",
            "19  Student_20  Operating Systems\n"
          ]
        }
      ]
    },
    {
      "cell_type": "code",
      "source": [
        "# V7: Synonym Handling\n",
        "nl_query_v7 = \"List the names of students with marks above 80.\"\n",
        "prompt_v7 = f\"### {db_schema_v6}\\n### Task\\n{nl_query_v7}\"\n",
        "sql_v7 = text_to_sql_pipeline(prompt_v7)\n",
        "\n",
        "print(f\"V7 Natural Language: {nl_query_v7}\")\n",
        "print(f\"V7 Generated SQL: {sql_v7[0]['generated_text']}\")\n",
        "\n",
        "# Execute the generated SQL\n",
        "result_v7 = psql(sql_v7[0]['generated_text'])\n",
        "print(\"V7 Query Result on Dummy Data:\")\n",
        "print(result_v7)"
      ],
      "metadata": {
        "colab": {
          "base_uri": "https://localhost:8080/"
        },
        "id": "wny55mchJIr0",
        "outputId": "a53e2815-9a86-4423-b5ec-5395d60a9446"
      },
      "execution_count": 47,
      "outputs": [
        {
          "output_type": "stream",
          "name": "stdout",
          "text": [
            "V7 Natural Language: List the names of students with marks above 80.\n",
            "V7 Generated SQL: SELECT name FROM student WHERE marks > 80\n",
            "V7 Query Result on Dummy Data:\n",
            "         name\n",
            "0   Student_1\n",
            "1   Student_4\n",
            "2   Student_7\n",
            "3  Student_13\n",
            "4  Student_14\n",
            "5  Student_20\n"
          ]
        }
      ]
    },
    {
      "cell_type": "code",
      "source": [
        "# First, find the marks of Student_5 using pandas\n",
        "student_5_marks = student[student['name'] == 'Student_5']['marks'].iloc[0]\n",
        "\n",
        "print(f\"Student_5's marks are: {student_5_marks}\")\n",
        "\n",
        "# Use the specific number in the natural language prompt\n",
        "nl_query_v8 = f\"Show the names and marks of students with marks greater than {student_5_marks}.\"\n",
        "prompt_v8 = f\"### {db_schema_v6}\\n### Task\\n{nl_query_v8}\"\n",
        "sql_v8 = text_to_sql_pipeline(prompt_v8)\n",
        "\n",
        "print(f\"V8 Natural Language: {nl_query_v8}\")\n",
        "print(f\"V8 Generated SQL: {sql_v8[0]['generated_text']}\")\n",
        "\n",
        "# Execute the generated SQL\n",
        "result_v8 = psql(sql_v8[0]['generated_text'])\n",
        "print(\"V8 Query Result on Dummy Data:\")\n",
        "print(result_v8)\n"
      ],
      "metadata": {
        "id": "xm7IDmODJ0D8",
        "colab": {
          "base_uri": "https://localhost:8080/"
        },
        "outputId": "deb5f541-7c6a-4b32-ad33-0ff4c70dfb9d"
      },
      "execution_count": 48,
      "outputs": [
        {
          "output_type": "stream",
          "name": "stdout",
          "text": [
            "Student_5's marks are: 57\n",
            "V8 Natural Language: Show the names and marks of students with marks greater than 57.\n",
            "V8 Generated SQL: SELECT name FROM student WHERE marks > 57\n",
            "V8 Query Result on Dummy Data:\n",
            "          name\n",
            "0    Student_1\n",
            "1    Student_2\n",
            "2    Student_3\n",
            "3    Student_4\n",
            "4    Student_6\n",
            "5    Student_7\n",
            "6    Student_8\n",
            "7    Student_9\n",
            "8   Student_10\n",
            "9   Student_11\n",
            "10  Student_12\n",
            "11  Student_13\n",
            "12  Student_14\n",
            "13  Student_15\n",
            "14  Student_17\n",
            "15  Student_19\n",
            "16  Student_20\n"
          ]
        }
      ]
    }
  ]
}